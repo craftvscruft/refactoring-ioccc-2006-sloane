{
 "cells": [
  {
   "cell_type": "markdown",
   "metadata": {
    "tags": []
   },
   "source": [
    "# Donut Banner Encoding\n",
    "\n",
    "**Spoilers**: This notebook demonstrates the encoding of the scrolling \"IOCCC 2006\" banner. If you want to figure it out, ignore this.\n",
    "\n"
   ]
  },
  {
   "cell_type": "markdown",
   "metadata": {
    "tags": []
   },
   "source": [
    "## Process\n",
    "\n",
    "* Run-length encoding\n",
    "* Prefix code trees (similar to Huffman encoding) on both the charactors and the run-lengths\n",
    "* The resulting binary string is broken up into 6 bit blocks, read least significant bit to most\n",
    "* The blocks are converted to ascii, taking the 64 chars from '>' to '~'\n",
    "\n",
    "## Prefix code trees\n",
    "\n",
    "The prefix code trees are represented in two strings each, corresponding to 0 and 1 in the binary input. The tree is traversed by pulling the next index from either the 0 or 1 array until a negative number is reached. This will probably take some pictures to understand."
   ]
  },
  {
   "cell_type": "code",
   "execution_count": 1,
   "metadata": {
    "tags": []
   },
   "outputs": [],
   "source": [
    "# Using raw literal because the \\\\ are not escapes.\n",
    "banner = r'''\n",
    ".___________~~_________ _________ _________~~~_______________~~_______~~~~________\n",
    "|   \\_____  \\~\\_   ___ \\\\_   ___ \\\\_   ___ \\~~\\_____  \\   _  \\~\\   _  \\~~/  _____/\n",
    "|   |/   |   \\/    \\  \\//    \\  \\//    \\  \\/~~~/  ____/  /_\\  \\/  /_\\  \\/   __  \\\n",
    "|   /    |    \\     \\___\\     \\___\\     \\____~/       \\  \\_/   \\  \\_/   \\  |__\\  \\\n",
    "|___\\_______  /\\______  /\\______  /\\______  /~\\_______ \\_____  /\\_____  /\\_____  /\n",
    "~~~~~~~~~~~~\\/~~~~~~~~\\/~~~~~~~~\\/~~~~~~~~\\/~~~~~~~~~~\\/~~~~~\\/~~~~~~~\\/~~~~~~~\\/\n",
    "'''.strip() + \"\\n\"\n"
   ]
  },
  {
   "cell_type": "code",
   "execution_count": 2,
   "metadata": {
    "tags": []
   },
   "outputs": [],
   "source": [
    "def run_length_encode(text):\n",
    "    prev_ch = None\n",
    "    count = 0\n",
    "\n",
    "    rle_entries = []\n",
    "\n",
    "    for ch in text:\n",
    "        if ch == prev_ch:\n",
    "            count += 1\n",
    "        else:\n",
    "            if prev_ch:\n",
    "                rle_entries.append((prev_ch, count))\n",
    "            prev_ch = ch\n",
    "            count = 1\n",
    "    if prev_ch:\n",
    "        rle_entries.append((prev_ch, count))\n",
    "    return rle_entries"
   ]
  },
  {
   "cell_type": "code",
   "execution_count": 3,
   "metadata": {
    "tags": []
   },
   "outputs": [
    {
     "data": {
      "text/plain": [
       "[('.', 1), ('_', 11), ('~', 2), ('_', 9), (' ', 1)]"
      ]
     },
     "execution_count": 3,
     "metadata": {},
     "output_type": "execute_result"
    }
   ],
   "source": [
    "run_length_encode(banner)[:5]"
   ]
  },
  {
   "cell_type": "code",
   "execution_count": 4,
   "metadata": {
    "tags": []
   },
   "outputs": [],
   "source": [
    "# There is more work left to show here about how these strings become these dicts.\n",
    "\n",
    "\n",
    "# 0: \"bcd\\\\a[g\" => [-1, 0, 1, -7, -2, -8, 4]\n",
    "# 1: \"^`_e]fh\" => [-5, -3, -4, 2, -6, 3, 5]\n",
    "\n",
    "char_lookup = {-8: '10',\n",
    " -7: '110',\n",
    " -6: '01',\n",
    " -5: '111001',\n",
    " -4: '1111',\n",
    " -3: '11101',\n",
    " -2: '00',\n",
    " -1: '111000'}\n",
    "\n",
    "\n",
    "# 0: \"_ac[]\\\\YZijkm\" =>  [-4, -2, 0, -8, -6, -7, -10, -9, 6, 7, 8, 10]\n",
    "# 1: \"`bd^efghXWlV\" => [-3, -1, 1, -5, 2, 3, 4, 5, -11, -12, 9, -13]\n",
    "count_lookup = {-13: '1',\n",
    " -12: '011',\n",
    " -11: '001',\n",
    " -10: '0000',\n",
    " -9: '0100',\n",
    " -8: '010110',\n",
    " -7: '01010',\n",
    " -6: '00010',\n",
    " -5: '010111',\n",
    " -4: '0001100',\n",
    " -3: '0001101',\n",
    " -2: '0001110',\n",
    " -1: '0001111'}\n",
    "\n",
    "def invert_dict(d):\n",
    "    return {v: k for k, v in d.items()}\n",
    "\n",
    "bin_to_count_code = invert_dict(count_lookup)\n",
    "\n",
    "bin_to_char_code = invert_dict(char_lookup)\n",
    "\n",
    "char_lookup_string = \" /\\\\\\n~|_.\"\n",
    "\n",
    "def count_to_binary_code(count):\n",
    "    if (count > 13):\n",
    "        count = 13\n",
    "    count_offset = 14\n",
    "    return count_lookup[count - count_offset]\n",
    "\n",
    "def char_to_binary_code(ch):\n",
    "    if ch not in char_lookup_string:\n",
    "        print(f'{ch} is not one of \"{char_lookup_string}\"')\n",
    "    idx = char_lookup_string.index(ch)\n",
    "    char_offset = 8\n",
    "    return char_lookup[idx - char_offset]\n",
    "\n",
    "def count_code_to_count(code):\n",
    "    count_offset = 14\n",
    "    count = code + count_offset\n",
    "    if (count == 13):\n",
    "        count = 15\n",
    "    \n",
    "    return count\n",
    "\n",
    "def char_code_to_char(code):\n",
    "    char_offset = 8\n",
    "    return char_lookup_string[code + char_offset]\n"
   ]
  },
  {
   "cell_type": "code",
   "execution_count": 5,
   "metadata": {
    "tags": []
   },
   "outputs": [
    {
     "data": {
      "text/plain": [
       "'001'"
      ]
     },
     "execution_count": 5,
     "metadata": {},
     "output_type": "execute_result"
    }
   ],
   "source": [
    "count_to_binary_code(3)"
   ]
  },
  {
   "cell_type": "code",
   "execution_count": 6,
   "metadata": {
    "tags": []
   },
   "outputs": [
    {
     "data": {
      "text/plain": [
       "'111001'"
      ]
     },
     "execution_count": 6,
     "metadata": {},
     "output_type": "execute_result"
    }
   ],
   "source": [
    "char_to_binary_code(\"\\n\")"
   ]
  },
  {
   "cell_type": "code",
   "execution_count": 133,
   "metadata": {},
   "outputs": [
    {
     "data": {
      "text/plain": [
       "'1110001000001101111101100010111101000101111010001011111110010000011111111011000101011110000000001011100111110111000101100010010011011111110110011000100001101010110011000100001101010110011000100001101011111101101100010010011011100010011001101111111011100010011001101111110111101100110001001101111001111101110001111011110110001111011100010111101100000011100110111100111000000111001101111001110000001110011011110111110011101100110000001101100111101001011100110111101100111101001011100110111101100010001110011011111001111101110001110110000011101110000001110010001100001011100100011000010111001000110000001111111011001010011100110110011101100010111001101100111011000101110011111011000110111001101111100111110110000101100010101001111010110001011010011110101100010110100111101011000101101001111011111101100010101010110001001001111010110001001001111010110001001001111011110011111100011100111101111100010011110111110001001111011111000100111101111100011000111101111101000111101111101010011110111110101001111011110011'"
      ]
     },
     "execution_count": 133,
     "metadata": {},
     "output_type": "execute_result"
    }
   ],
   "source": []
  },
  {
   "cell_type": "code",
   "execution_count": 9,
   "metadata": {
    "tags": []
   },
   "outputs": [
    {
     "name": "stdout",
     "output_type": "stream",
     "text": [
      "[7, 1, 59, 27, 52]\n",
      "['111', '1', '111011', '11011', '110100']\n",
      "['111000', '100000', '110111', '110110', '001011']\n",
      "11100010000011011111\n"
     ]
    }
   ],
   "source": [
    "magic_string_dense = \"E?yYrIxC{e^}KhE>[|LXbj}dOVsJ@idOV{Yab[bW}[bW}\\\\qFywyv{Dma\\\\AZtq?Lyw>e{|Zq>Y\\\\gq\\\\qI[tYBe{wyvDZEvBA[`_Lo>}KcqdYrWqKxzKtW]|DXRwsfcUaT\\\\KXw{YRsFwsFwsFw{zaqyaz|FmMpyaoyI\\\\]cuUw{J\"\n",
    "\n",
    "magic_string_nums = [ord(ch) - 62 for ch in magic_string_dense]\n",
    "print(magic_string_nums[:5])\n",
    "\n",
    "\n",
    "magic_string_binary_segments = [bin(num)[2:] for num in magic_string_nums]\n",
    "print(magic_string_binary_segments[:5])\n",
    "\n",
    "# Zero pad to six-bits and reverse because of the order they are read in\n",
    "magic_string_rev_binary_segments = [bstr.zfill(6)[::-1] for bstr in magic_string_binary_segments]\n",
    "print(magic_string_rev_binary_segments[:5])\n",
    "\n",
    "magic_string = ''.join(magic_string_rev_binary_segments)\n",
    "print(magic_string[:20])"
   ]
  },
  {
   "cell_type": "code",
   "execution_count": 27,
   "metadata": {},
   "outputs": [],
   "source": []
  },
  {
   "cell_type": "code",
   "execution_count": 74,
   "metadata": {},
   "outputs": [],
   "source": [
    "\n",
    "\n"
   ]
  },
  {
   "cell_type": "code",
   "execution_count": 10,
   "metadata": {
    "tags": []
   },
   "outputs": [],
   "source": [
    "def read_bin_string_to_char_count_code_pairs(magic_string):\n",
    "    char_count_pairs = []\n",
    "    ms_idx = 0\n",
    "    cur_bin_str = ''\n",
    "    while ms_idx < len(magic_string):\n",
    "        pair_start_idx = ms_idx\n",
    "        while cur_bin_str not in bin_to_char_code:\n",
    "            if ms_idx >= len(magic_string):\n",
    "                print(f\"Overflow at ms_idx {ms_idx} pair_start_idx {pair_start_idx}\")\n",
    "            cur_bin_str += magic_string[ms_idx]\n",
    "            ms_idx += 1\n",
    "        char_code = bin_to_char_code[cur_bin_str]\n",
    "        cur_bin_str = ''\n",
    "        while cur_bin_str not in bin_to_count_code:\n",
    "            if ms_idx >= len(magic_string):\n",
    "                print(f\"Overflow at ms_idx {ms_idx} pair_start_idx {pair_start_idx}\")\n",
    "            cur_bin_str += magic_string[ms_idx]\n",
    "            ms_idx += 1\n",
    "        count_code = bin_to_count_code[cur_bin_str]\n",
    "        cur_bin_str = ''\n",
    "        char_count_pairs.append((char_code, count_code))\n",
    "    return char_count_pairs\n",
    "    "
   ]
  },
  {
   "cell_type": "code",
   "execution_count": 11,
   "metadata": {
    "tags": []
   },
   "outputs": [
    {
     "name": "stdout",
     "output_type": "stream",
     "text": [
      "[(-1, -13), (-2, -3), (-4, -12), (-2, -5), (-8, -13)]\n",
      "[('.', 1), ('_', 11), ('~', 2), ('_', 9), (' ', 1), ('_', 9), (' ', 1), ('_', 9), ('~', 3), ('_', 15), ('~', 2), ('_', 7), ('~', 4), ('_', 8), ('\\n', 1), ('|', 1), (' ', 3), ('\\\\', 1), ('_', 5), (' ', 2), ('\\\\', 1), ('~', 1), ('\\\\', 1), ('_', 1), (' ', 3), ('_', 3), (' ', 1), ('\\\\', 2), ('_', 1), (' ', 3), ('_', 3), (' ', 1), ('\\\\', 2), ('_', 1), (' ', 3), ('_', 3), (' ', 1), ('\\\\', 1), ('~', 2), ('\\\\', 1), ('_', 5), (' ', 2), ('\\\\', 1), (' ', 3), ('_', 1), (' ', 2), ('\\\\', 1), ('~', 1), ('\\\\', 1), (' ', 3), ('_', 1), (' ', 2), ('\\\\', 1), ('~', 2), ('/', 1), (' ', 2), ('_', 5), ('/', 1), ('\\n', 1), ('|', 1), (' ', 3), ('|', 1), ('/', 1), (' ', 3), ('|', 1), (' ', 3), ('\\\\', 1), ('/', 1), (' ', 4), ('\\\\', 1), (' ', 2), ('\\\\', 1), ('/', 2), (' ', 4), ('\\\\', 1), (' ', 2), ('\\\\', 1), ('/', 2), (' ', 4), ('\\\\', 1), (' ', 2), ('\\\\', 1), ('/', 1), ('~', 3), ('/', 1), (' ', 2), ('_', 4), ('/', 1), (' ', 2), ('/', 1), ('_', 1), ('\\\\', 1), (' ', 2), ('\\\\', 1), ('/', 1), (' ', 2), ('/', 1), ('_', 1), ('\\\\', 1), (' ', 2), ('\\\\', 1), ('/', 1), (' ', 3), ('_', 2), (' ', 2), ('\\\\', 1), ('\\n', 1), ('|', 1), (' ', 3), ('/', 1), (' ', 4), ('|', 1), (' ', 4), ('\\\\', 1), (' ', 5), ('\\\\', 1), ('_', 3), ('\\\\', 1), (' ', 5), ('\\\\', 1), ('_', 3), ('\\\\', 1), (' ', 5), ('\\\\', 1), ('_', 4), ('~', 1), ('/', 1), (' ', 7), ('\\\\', 1), (' ', 2), ('\\\\', 1), ('_', 1), ('/', 1), (' ', 3), ('\\\\', 1), (' ', 2), ('\\\\', 1), ('_', 1), ('/', 1), (' ', 3), ('\\\\', 1), (' ', 2), ('|', 1), ('_', 2), ('\\\\', 1), (' ', 2), ('\\\\', 1), ('\\n', 1), ('|', 1), ('_', 3), ('\\\\', 1), ('_', 7), (' ', 2), ('/', 1), ('\\\\', 1), ('_', 6), (' ', 2), ('/', 1), ('\\\\', 1), ('_', 6), (' ', 2), ('/', 1), ('\\\\', 1), ('_', 6), (' ', 2), ('/', 1), ('~', 1), ('\\\\', 1), ('_', 7), (' ', 1), ('\\\\', 1), ('_', 5), (' ', 2), ('/', 1), ('\\\\', 1), ('_', 5), (' ', 2), ('/', 1), ('\\\\', 1), ('_', 5), (' ', 2), ('/', 1), ('\\n', 1), ('~', 12), ('\\\\', 1), ('/', 1), ('~', 8), ('\\\\', 1), ('/', 1), ('~', 8), ('\\\\', 1), ('/', 1), ('~', 8), ('\\\\', 1), ('/', 1), ('~', 10), ('\\\\', 1), ('/', 1), ('~', 5), ('\\\\', 1), ('/', 1), ('~', 7), ('\\\\', 1), ('/', 1), ('~', 7), ('\\\\', 1), ('/', 1), ('\\n', 1)]\n",
      "['.', '___________', '~~', '_________', ' ']\n",
      ".___________~~_________ _________ _________~~~_______________~~_______~~~~________\n",
      "|   \\_____  \\~\\_   ___ \\\\_   ___ \\\\_   ___ \\~~\\_____  \\   _  \\~\\   _  \\~~/  _____/\n",
      "|   |/   |   \\/    \\  \\//    \\  \\//    \\  \\/~~~/  ____/  /_\\  \\/  /_\\  \\/   __  \\\n",
      "|   /    |    \\     \\___\\     \\___\\     \\____~/       \\  \\_/   \\  \\_/   \\  |__\\  \\\n",
      "|___\\_______  /\\______  /\\______  /\\______  /~\\_______ \\_____  /\\_____  /\\_____  /\n",
      "~~~~~~~~~~~~\\/~~~~~~~~\\/~~~~~~~~\\/~~~~~~~~\\/~~~~~~~~~~\\/~~~~~\\/~~~~~~~\\/~~~~~~~\\/\n",
      "\n"
     ]
    }
   ],
   "source": [
    "char_count_code_pairs = read_bin_string_to_char_count_code_pairs(magic_string[:1006])\n",
    "\n",
    "print(char_count_code_pairs[:5])\n",
    "\n",
    "char_count_pairs = [(char_code_to_char(char_code), count_code_to_count(count_code)) for (char_code, count_code) in char_count_code_pairs]\n",
    "\n",
    "print(char_count_pairs)\n",
    "\n",
    "expanded_chars = [char * count for (char, count) in char_count_pairs]\n",
    "print(expanded_chars[:5])\n",
    "rendered_banner = ''.join(expanded_chars)\n",
    "\n",
    "print(rendered_banner)"
   ]
  },
  {
   "cell_type": "code",
   "execution_count": 12,
   "metadata": {
    "tags": []
   },
   "outputs": [],
   "source": [
    "assert rendered_banner[:20] == banner[:20]\n",
    "assert rendered_banner[:30] == banner[:30]\n",
    "assert rendered_banner[:50] == banner[:50]\n",
    "assert rendered_banner[-1] == banner[-1] # Newline\n",
    "# print(list(rendered_banner[-20:]))\n",
    "# print(list(banner[-20:]))\n",
    "assert rendered_banner == banner"
   ]
  },
  {
   "cell_type": "code",
   "execution_count": 13,
   "metadata": {
    "tags": []
   },
   "outputs": [
    {
     "data": {
      "text/plain": [
       "'1110001000001101111101100010111101000101111010001011111110010000011111111011000101011110000000001011100111110111000101100010010011011111110110011000100001101010110011000100001101010110011000100001101011111101101100010010011011100010011001101111111011100010011001101111110111101100110001001101111001111101110001111011110110001111011100010111101100000011100110111100111000000111001101111001110000001110011011110111110011101100110000001101100111101001011100110111101100111101001011100110111101100010001110011011111001111101110001110110000011101110000001110010001100001011100100011000010111001000110000001111111011001010011100110110011101100010111001101100111011000101110011111011000110111001101111100111110110000101100010101001111010110001011010011110101100010110100111101011000101101001111011111101100010101010110001001001111010110001001001111010110001001001111011110011111100011100111101111100010011110111110001001111011111000100111101111100011000111101111101000111101111101010011110111110101001111011110011'"
      ]
     },
     "execution_count": 13,
     "metadata": {},
     "output_type": "execute_result"
    }
   ],
   "source": [
    "rle = run_length_encode(banner)\n",
    "combined_binary_codes = [ f\"{char_to_binary_code(ch)}{count_to_binary_code(count)}\" for (ch, count) in rle]\n",
    "\n",
    "magic_string_from_banner = ''.join(combined_binary_codes)\n",
    "magic_string_from_banner"
   ]
  },
  {
   "cell_type": "code",
   "execution_count": 14,
   "metadata": {
    "tags": []
   },
   "outputs": [],
   "source": [
    "assert magic_string_from_banner == magic_string[:1006]"
   ]
  },
  {
   "cell_type": "code",
   "execution_count": 15,
   "metadata": {
    "tags": []
   },
   "outputs": [
    {
     "name": "stdout",
     "output_type": "stream",
     "text": [
      "['111000', '100000', '110111', '110110', '001011']\n",
      "['000111', '000001', '111011', '011011', '110100']\n",
      "[7, 1, 59, 27, 52]\n",
      "['E', '?', 'y', 'Y', 'r']\n",
      "E?yYrIxC{e^}KhE>[|LX\n"
     ]
    }
   ],
   "source": [
    "def chunk_string(string, chunk_size):\n",
    "    return [ string[i:i+chunk_size] for i in range(0, len(string), chunk_size)]\n",
    "\n",
    "magic_string_from_banner_chunks = chunk_string(magic_string_from_banner, 6)\n",
    "# Last chunk not 6 long, not padding seems to work.\n",
    "\n",
    "print(magic_string_from_banner_chunks[:5])\n",
    "magic_string_from_banner_reverse_chunks = [bstr[::-1] for bstr in magic_string_from_banner_chunks]\n",
    "print(magic_string_from_banner_reverse_chunks[:5])\n",
    "\n",
    "magic_string_from_banner_nums = [int(bstr, 2) for bstr in magic_string_from_banner_reverse_chunks]\n",
    "print(magic_string_from_banner_nums[:5])\n",
    "magic_string_from_banner_chars = [chr(num + 62) for num in magic_string_from_banner_nums]\n",
    "print(magic_string_from_banner_chars[:5])\n",
    "\n",
    "magic_string_from_banner_dense = ''.join(magic_string_from_banner_chars)\n",
    "\n",
    "print(magic_string_from_banner_dense[:20])"
   ]
  },
  {
   "cell_type": "code",
   "execution_count": 153,
   "metadata": {},
   "outputs": [],
   "source": [
    "# print(magic_string_from_banner_dense[-5:])\n",
    "# print(magic_string_dense[-5:])\n",
    "assert magic_string_from_banner_dense == magic_string_dense"
   ]
  },
  {
   "cell_type": "code",
   "execution_count": 16,
   "metadata": {
    "tags": []
   },
   "outputs": [],
   "source": [
    "new_banner = r'''\n",
    "__________~~~~~~~~~~~_____~~~~~~~~~~~~~~~~~~~__\n",
    "\\______   \\~~____~~_/ ____\\_____~~~~~____~~_/  |_~~~____~~_______\n",
    "~|       _/_/ __ \\~\\   __\\~\\__  \\~~_/ ___\\~\\   __\\ /  _ \\~\\_  __ \\\n",
    "~|    |   \\\\  ___/~~|  |~~~~/ __ \\_\\  \\___~~|  |~~|  |_| |~|  |~\\/\n",
    "~|____|_  /~\\___ |~~|__|~~~|____  /~\\___ |~~|__|~~~\\____/~~|__|\n",
    "~~~~~~~~\\/~~~~~~\\/~~~~~~~~~~~~~~\\/~~~~~~\\/\n",
    "'''.strip() + \"\\n\""
   ]
  },
  {
   "cell_type": "code",
   "execution_count": 17,
   "metadata": {
    "tags": []
   },
   "outputs": [
    {
     "name": "stdout",
     "output_type": "stream",
     "text": [
      "000001100111100011010001001111000111100011111001101100010110100010111111011000000111101100111011010000000110001001111010000000011110110011101100111110110011111001000000111101100010101110011111111110111001010001110100111011010001110101111111011100010001101111111011000111001101111110110011101101000010111111101110001000110111011101100110011010111111101100110011000111010111110011111111110111000001110111000101011100110000111011111011111011100111110111111000011011010001110101100101110011011000011111011111011100111110111111011111011100111110110011110111011110111111111101110011111011111110111101111001111111111011000000111011001100111101111110110000110111101111110111110110001111101111110011110110000001001111011111101100001101111011111101111101100011111011111100101100000011011111011111011000111110111110011111100010011110111110101100111101111100011110111101111101011001111011110011\n",
      "882\n"
     ]
    }
   ],
   "source": [
    "def banner_to_magic_string(banner):\n",
    "    rle = run_length_encode(banner)\n",
    "    combined_binary_codes = [ f\"{char_to_binary_code(ch)}{count_to_binary_code(count)}\" for (ch, count) in rle]\n",
    "\n",
    "    return ''.join(combined_binary_codes)\n",
    "new_banner_magic_string = banner_to_magic_string(new_banner)\n",
    "print(new_banner_magic_string)\n",
    "print(len(new_banner_magic_string))"
   ]
  },
  {
   "cell_type": "code",
   "execution_count": null,
   "metadata": {},
   "outputs": [],
   "source": []
  }
 ],
 "metadata": {
  "kernelspec": {
   "display_name": "Python 3 (ipykernel)",
   "language": "python",
   "name": "python3"
  },
  "language_info": {
   "codemirror_mode": {
    "name": "ipython",
    "version": 3
   },
   "file_extension": ".py",
   "mimetype": "text/x-python",
   "name": "python",
   "nbconvert_exporter": "python",
   "pygments_lexer": "ipython3",
   "version": "3.10.10"
  }
 },
 "nbformat": 4,
 "nbformat_minor": 4
}
